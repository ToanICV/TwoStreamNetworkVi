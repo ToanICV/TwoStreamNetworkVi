{
 "cells": [
  {
   "cell_type": "code",
   "execution_count": 4,
   "metadata": {},
   "outputs": [],
   "source": [
    "import yaml\n",
    "# Load the environment.yml file\n",
    "with open('environment.yml', 'r') as f:\n",
    "    env = yaml.safe_load(f)\n",
    "# Extract the dependencies\n",
    "dependencies_apt = env['dependencies']\n",
    "dependencies_pip = env['pip']\n",
    "\n",
    "# Write the dependencies to requirements.txt\n",
    "with open('requirements_apt.txt', 'w') as f:\n",
    "    for dep in dependencies_apt:\n",
    "        if '=' in dep:\n",
    "            dep = dep.split('=')[0]\n",
    "        f.write(dep + '\\n')\n",
    "# Write the dependencies to requirements.txt\n",
    "with open('requirements_pip.txt', 'w') as f:\n",
    "    for dep in dependencies_pip:\n",
    "        if '::' in dep:\n",
    "            dep = dep.split('::')[1]\n",
    "        f.write(dep + '\\n')"
   ]
  },
  {
   "cell_type": "code",
   "execution_count": 5,
   "metadata": {},
   "outputs": [],
   "source": [
    "with open('requirements_pip.txt') as f:\n",
    "    lines = f.readlines()\n",
    "with open(\"requirements_pip.in\",'w+') as f:\n",
    "    for line in lines:\n",
    "        package = line.split(\"==\")[0]\n",
    "        f.write(package + '\\n')"
   ]
  }
 ],
 "metadata": {
  "kernelspec": {
   "display_name": "Python 3",
   "language": "python",
   "name": "python3"
  },
  "language_info": {
   "codemirror_mode": {
    "name": "ipython",
    "version": 3
   },
   "file_extension": ".py",
   "mimetype": "text/x-python",
   "name": "python",
   "nbconvert_exporter": "python",
   "pygments_lexer": "ipython3",
   "version": "3.8.0"
  }
 },
 "nbformat": 4,
 "nbformat_minor": 2
}
